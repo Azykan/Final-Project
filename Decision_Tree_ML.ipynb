{
 "cells": [
  {
   "cell_type": "code",
   "execution_count": 1,
   "id": "51288384",
   "metadata": {},
   "outputs": [
    {
     "name": "stdout",
     "output_type": "stream",
     "text": [
      "Requirement already satisfied: path in c:\\users\\praki\\anaconda3\\envs\\mlenv\\lib\\site-packages (16.4.0)Note: you may need to restart the kernel to use updated packages.\n",
      "\n"
     ]
    }
   ],
   "source": [
    "pip install path"
   ]
  },
  {
   "cell_type": "code",
   "execution_count": 2,
   "id": "73c9a014",
   "metadata": {},
   "outputs": [
    {
     "name": "stdout",
     "output_type": "stream",
     "text": [
      "Requirement already satisfied: pydotplus in c:\\users\\praki\\anaconda3\\envs\\mlenv\\lib\\site-packages (2.0.2)\n",
      "Requirement already satisfied: pyparsing>=2.0.1 in c:\\users\\praki\\anaconda3\\envs\\mlenv\\lib\\site-packages (from pydotplus) (3.0.4)\n",
      "Note: you may need to restart the kernel to use updated packages.\n"
     ]
    }
   ],
   "source": [
    "pip install pydotplus"
   ]
  },
  {
   "cell_type": "code",
   "execution_count": 3,
   "id": "d62059d0",
   "metadata": {},
   "outputs": [],
   "source": [
    "# Initial imports.\n",
    "import pandas as pd\n",
    "import numpy as np\n",
    "import matplotlib\n",
    "\n",
    "from path import Path\n",
    "from sklearn import tree\n",
    "from sklearn.tree import DecisionTreeClassifier  \n",
    "from sklearn.model_selection import train_test_split\n",
    "from sklearn.tree import plot_tree, export_text\n",
    "from matplotlib import pyplot as plt\n",
    "import seaborn as sns\n",
    "\n",
    "import pydotplus\n",
    "import io\n",
    "from scipy import misc #access to img read method\n",
    "\n",
    "%matplotlib inline \n",
    "#cell magic"
   ]
  },
  {
   "cell_type": "markdown",
   "id": "c46e69a3",
   "metadata": {},
   "source": [
    "## importing Dataset\n",
    "- Import data\n",
    "- EDA to visualize data and structure\n",
    "- Train a classifier (DT)\n",
    "- predict target using the trained classifier"
   ]
  },
  {
   "cell_type": "code",
   "execution_count": 4,
   "id": "52b90b74",
   "metadata": {},
   "outputs": [],
   "source": [
    "data = pd.read_csv('Resources/track_analytics_full.csv')"
   ]
  },
  {
   "cell_type": "code",
   "execution_count": 5,
   "id": "7ede5d67",
   "metadata": {},
   "outputs": [
    {
     "data": {
      "text/html": [
       "<div>\n",
       "<style scoped>\n",
       "    .dataframe tbody tr th:only-of-type {\n",
       "        vertical-align: middle;\n",
       "    }\n",
       "\n",
       "    .dataframe tbody tr th {\n",
       "        vertical-align: top;\n",
       "    }\n",
       "\n",
       "    .dataframe thead th {\n",
       "        text-align: right;\n",
       "    }\n",
       "</style>\n",
       "<table border=\"1\" class=\"dataframe\">\n",
       "  <thead>\n",
       "    <tr style=\"text-align: right;\">\n",
       "      <th></th>\n",
       "      <th>danceability</th>\n",
       "      <th>energy</th>\n",
       "      <th>key</th>\n",
       "      <th>loudness</th>\n",
       "      <th>rank</th>\n",
       "      <th>speechiness</th>\n",
       "      <th>acousticness</th>\n",
       "      <th>instrumentalness</th>\n",
       "      <th>liveness</th>\n",
       "      <th>valence</th>\n",
       "      <th>tempo</th>\n",
       "      <th>duration_ms</th>\n",
       "      <th>time_signature</th>\n",
       "    </tr>\n",
       "  </thead>\n",
       "  <tbody>\n",
       "    <tr>\n",
       "      <th>count</th>\n",
       "      <td>1212.000000</td>\n",
       "      <td>1212.000000</td>\n",
       "      <td>1212.000000</td>\n",
       "      <td>1212.000000</td>\n",
       "      <td>1212.000000</td>\n",
       "      <td>1212.000000</td>\n",
       "      <td>1212.000000</td>\n",
       "      <td>1212.000000</td>\n",
       "      <td>1212.000000</td>\n",
       "      <td>1212.000000</td>\n",
       "      <td>1212.000000</td>\n",
       "      <td>1212.000000</td>\n",
       "      <td>1212.000000</td>\n",
       "    </tr>\n",
       "    <tr>\n",
       "      <th>mean</th>\n",
       "      <td>0.696627</td>\n",
       "      <td>0.645409</td>\n",
       "      <td>5.383663</td>\n",
       "      <td>-6.114266</td>\n",
       "      <td>0.573432</td>\n",
       "      <td>0.123672</td>\n",
       "      <td>0.230912</td>\n",
       "      <td>0.006635</td>\n",
       "      <td>0.172708</td>\n",
       "      <td>0.511855</td>\n",
       "      <td>121.722182</td>\n",
       "      <td>203088.907591</td>\n",
       "      <td>3.975248</td>\n",
       "    </tr>\n",
       "    <tr>\n",
       "      <th>std</th>\n",
       "      <td>0.138945</td>\n",
       "      <td>0.153687</td>\n",
       "      <td>3.650797</td>\n",
       "      <td>2.291785</td>\n",
       "      <td>0.494782</td>\n",
       "      <td>0.110630</td>\n",
       "      <td>0.231870</td>\n",
       "      <td>0.046332</td>\n",
       "      <td>0.134128</td>\n",
       "      <td>0.222714</td>\n",
       "      <td>29.864847</td>\n",
       "      <td>46245.684556</td>\n",
       "      <td>0.252579</td>\n",
       "    </tr>\n",
       "    <tr>\n",
       "      <th>min</th>\n",
       "      <td>0.238000</td>\n",
       "      <td>0.111000</td>\n",
       "      <td>0.000000</td>\n",
       "      <td>-18.435000</td>\n",
       "      <td>0.000000</td>\n",
       "      <td>0.023200</td>\n",
       "      <td>0.000025</td>\n",
       "      <td>0.000000</td>\n",
       "      <td>0.021500</td>\n",
       "      <td>0.037000</td>\n",
       "      <td>62.948000</td>\n",
       "      <td>30583.000000</td>\n",
       "      <td>1.000000</td>\n",
       "    </tr>\n",
       "    <tr>\n",
       "      <th>25%</th>\n",
       "      <td>0.611000</td>\n",
       "      <td>0.541000</td>\n",
       "      <td>2.000000</td>\n",
       "      <td>-7.226250</td>\n",
       "      <td>0.000000</td>\n",
       "      <td>0.046575</td>\n",
       "      <td>0.047575</td>\n",
       "      <td>0.000000</td>\n",
       "      <td>0.093600</td>\n",
       "      <td>0.339000</td>\n",
       "      <td>96.470250</td>\n",
       "      <td>174396.250000</td>\n",
       "      <td>4.000000</td>\n",
       "    </tr>\n",
       "    <tr>\n",
       "      <th>50%</th>\n",
       "      <td>0.714000</td>\n",
       "      <td>0.664000</td>\n",
       "      <td>6.000000</td>\n",
       "      <td>-5.754500</td>\n",
       "      <td>1.000000</td>\n",
       "      <td>0.077000</td>\n",
       "      <td>0.152000</td>\n",
       "      <td>0.000000</td>\n",
       "      <td>0.119000</td>\n",
       "      <td>0.513500</td>\n",
       "      <td>119.942000</td>\n",
       "      <td>199604.000000</td>\n",
       "      <td>4.000000</td>\n",
       "    </tr>\n",
       "    <tr>\n",
       "      <th>75%</th>\n",
       "      <td>0.799250</td>\n",
       "      <td>0.762000</td>\n",
       "      <td>8.000000</td>\n",
       "      <td>-4.611250</td>\n",
       "      <td>1.000000</td>\n",
       "      <td>0.162500</td>\n",
       "      <td>0.336000</td>\n",
       "      <td>0.000026</td>\n",
       "      <td>0.195000</td>\n",
       "      <td>0.681250</td>\n",
       "      <td>141.228750</td>\n",
       "      <td>226119.250000</td>\n",
       "      <td>4.000000</td>\n",
       "    </tr>\n",
       "    <tr>\n",
       "      <th>max</th>\n",
       "      <td>0.970000</td>\n",
       "      <td>0.972000</td>\n",
       "      <td>11.000000</td>\n",
       "      <td>-0.515000</td>\n",
       "      <td>1.000000</td>\n",
       "      <td>0.856000</td>\n",
       "      <td>0.991000</td>\n",
       "      <td>0.657000</td>\n",
       "      <td>0.920000</td>\n",
       "      <td>0.972000</td>\n",
       "      <td>203.927000</td>\n",
       "      <td>588139.000000</td>\n",
       "      <td>5.000000</td>\n",
       "    </tr>\n",
       "  </tbody>\n",
       "</table>\n",
       "</div>"
      ],
      "text/plain": [
       "       danceability       energy          key     loudness         rank  \\\n",
       "count   1212.000000  1212.000000  1212.000000  1212.000000  1212.000000   \n",
       "mean       0.696627     0.645409     5.383663    -6.114266     0.573432   \n",
       "std        0.138945     0.153687     3.650797     2.291785     0.494782   \n",
       "min        0.238000     0.111000     0.000000   -18.435000     0.000000   \n",
       "25%        0.611000     0.541000     2.000000    -7.226250     0.000000   \n",
       "50%        0.714000     0.664000     6.000000    -5.754500     1.000000   \n",
       "75%        0.799250     0.762000     8.000000    -4.611250     1.000000   \n",
       "max        0.970000     0.972000    11.000000    -0.515000     1.000000   \n",
       "\n",
       "       speechiness  acousticness  instrumentalness     liveness      valence  \\\n",
       "count  1212.000000   1212.000000       1212.000000  1212.000000  1212.000000   \n",
       "mean      0.123672      0.230912          0.006635     0.172708     0.511855   \n",
       "std       0.110630      0.231870          0.046332     0.134128     0.222714   \n",
       "min       0.023200      0.000025          0.000000     0.021500     0.037000   \n",
       "25%       0.046575      0.047575          0.000000     0.093600     0.339000   \n",
       "50%       0.077000      0.152000          0.000000     0.119000     0.513500   \n",
       "75%       0.162500      0.336000          0.000026     0.195000     0.681250   \n",
       "max       0.856000      0.991000          0.657000     0.920000     0.972000   \n",
       "\n",
       "             tempo    duration_ms  time_signature  \n",
       "count  1212.000000    1212.000000     1212.000000  \n",
       "mean    121.722182  203088.907591        3.975248  \n",
       "std      29.864847   46245.684556        0.252579  \n",
       "min      62.948000   30583.000000        1.000000  \n",
       "25%      96.470250  174396.250000        4.000000  \n",
       "50%     119.942000  199604.000000        4.000000  \n",
       "75%     141.228750  226119.250000        4.000000  \n",
       "max     203.927000  588139.000000        5.000000  "
      ]
     },
     "execution_count": 5,
     "metadata": {},
     "output_type": "execute_result"
    }
   ],
   "source": [
    "data.describe()"
   ]
  },
  {
   "cell_type": "code",
   "execution_count": 6,
   "id": "3e7a03d0",
   "metadata": {},
   "outputs": [],
   "source": [
    "train, test = train_test_split(data, test_size = 0.15)"
   ]
  },
  {
   "cell_type": "code",
   "execution_count": 7,
   "id": "0942548f",
   "metadata": {},
   "outputs": [
    {
     "name": "stdout",
     "output_type": "stream",
     "text": [
      "Tarining size: 1030; Test size: 182\n"
     ]
    }
   ],
   "source": [
    "print(\"Tarining size: {}; Test size: {}\".format(len(train), len(test)))"
   ]
  },
  {
   "cell_type": "code",
   "execution_count": 8,
   "id": "c81eb4eb",
   "metadata": {},
   "outputs": [
    {
     "data": {
      "text/plain": [
       "(1030, 18)"
      ]
     },
     "execution_count": 8,
     "metadata": {},
     "output_type": "execute_result"
    }
   ],
   "source": [
    "#shows your rows and column\n",
    "train.shape"
   ]
  },
  {
   "cell_type": "code",
   "execution_count": 9,
   "id": "43bc827f",
   "metadata": {},
   "outputs": [],
   "source": [
    "#color palette\n",
    "red_blue =[\"#195B5E\", \"#EF4836\"]\n",
    "palette = sns.color_palette(red_blue)\n",
    "sns.set_palette(palette)"
   ]
  },
  {
   "cell_type": "code",
   "execution_count": 10,
   "id": "55c14b30",
   "metadata": {},
   "outputs": [],
   "source": [
    "#positive and negative variable for song's attirbutes\n",
    "pos_danceability = data[data['rank'] == 1]['danceability']\n",
    "neg_danceability = data[data['rank'] == 0]['danceability']\n",
    "pos_energy = data[data['rank'] == 1]['energy']\n",
    "neg_energy = data[data['rank'] == 0]['energy']\n",
    "pos_loudness = data[data['rank'] == 1]['loudness']\n",
    "neg_loudness = data[data['rank'] == 0]['loudness']\n",
    "pos_tempo = data[data['rank'] == 1]['tempo']\n",
    "neg_tempo = data[data['rank'] == 0]['tempo']\n",
    "pos_key = data[data['rank'] == 1]['key']\n",
    "neg_key = data[data['rank'] == 0]['key']\n",
    "pos_acousticness = data[data['rank'] == 1]['acousticness']\n",
    "neg_acousticness = data[data['rank'] == 0]['acousticness']\n",
    "pos_instrumentalness = data[data['rank'] == 1]['instrumentalness']\n",
    "neg_instrumentalness = data[data['rank'] == 0]['instrumentalness']\n",
    "pos_valence = data[data['rank'] == 1]['valence']\n",
    "neg_valence = data[data['rank'] == 0]['valence']\n",
    "pos_duration_ms = data[data['rank'] == 1]['duration_ms']\n",
    "neg_duration_ms = data[data['rank'] == 0]['duration_ms']"
   ]
  },
  {
   "cell_type": "code",
   "execution_count": 11,
   "id": "ba6056c4",
   "metadata": {},
   "outputs": [
    {
     "data": {
      "image/png": "[encoded data removed]",
      "text/plain": [
       "<Figure size 864x576 with 1 Axes>"
      ]
     },
     "metadata": {
      "needs_background": "light"
     },
     "output_type": "display_data"
    }
   ],
   "source": [
    "fig = plt.figure(figsize = (12,8))\n",
    "plt.title(\"danceability hit / not-hit distribution\")\n",
    "pos_danceability.hist(alpha = 0.5, bins = 30, label='hit')\n",
    "neg_danceability.hist(alpha = 0.5, bins = 30, label='not-hit')\n",
    "plt.legend(loc = \"upper left\")\n",
    "plt.savefig('Resources/danceability', dpi=100)"
   ]
  },
  {
   "cell_type": "code",
   "execution_count": 12,
   "id": "cb8294a9",
   "metadata": {},
   "outputs": [
    {
     "data": {
      "image/png": "[encoded data removed]",
      "text/plain": [
       "<Figure size 864x576 with 1 Axes>"
      ]
     },
     "metadata": {
      "needs_background": "light"
     },
     "output_type": "display_data"
    }
   ],
   "source": [
    "#energy\n",
    "\n",
    "fig = plt.figure(figsize = (12,8))\n",
    "plt.title(\"Energy hit / not-hit distribution\")\n",
    "pos_energy.hist(alpha = 0.7, bins = 30, label='hit')\n",
    "neg_energy.hist(alpha = 0.7, bins = 30, label='not-hit')\n",
    "plt.legend(loc = \"upper left\")\n",
    "plt.savefig('Resources/energy', dpi=100)"
   ]
  },
  {
   "cell_type": "code",
   "execution_count": 13,
   "id": "4e6ca7dd",
   "metadata": {},
   "outputs": [
    {
     "data": {
      "image/png": "[encoded data removed]",
      "text/plain": [
       "<Figure size 864x576 with 1 Axes>"
      ]
     },
     "metadata": {
      "needs_background": "light"
     },
     "output_type": "display_data"
    }
   ],
   "source": [
    "#tempo\n",
    "fig = plt.figure(figsize = (12,8))\n",
    "plt.title(\"Tempo hit / not-hit distribution\")\n",
    "pos_tempo.hist(alpha = 0.7, bins = 30, label='hit')\n",
    "neg_tempo.hist(alpha = 0.7, bins = 30, label='not-hit')\n",
    "plt.legend(loc = \"upper left\")\n",
    "plt.savefig('Resources/tempo', dpi=100)"
   ]
  },
  {
   "cell_type": "code",
   "execution_count": 14,
   "id": "d442dba5",
   "metadata": {},
   "outputs": [
    {
     "data": {
      "image/png": "[encoded data removed]",
      "text/plain": [
       "<Figure size 864x576 with 1 Axes>"
      ]
     },
     "metadata": {
      "needs_background": "light"
     },
     "output_type": "display_data"
    }
   ],
   "source": [
    "#key\n",
    "fig = plt.figure(figsize = (12,8))\n",
    "plt.title(\"Key hit / not-hit distribution\")\n",
    "pos_key.hist(alpha = 0.7, bins = 30, label='hit')\n",
    "neg_key.hist(alpha = 0.7, bins = 30, label='not-hit')\n",
    "plt.legend(loc = \"upper left\")\n",
    "plt.savefig('Resources/key', dpi=100)"
   ]
  },
  {
   "cell_type": "code",
   "execution_count": 15,
   "id": "f45bcf6f",
   "metadata": {},
   "outputs": [
    {
     "data": {
      "image/png": "[encoded data removed]",
      "text/plain": [
       "<Figure size 864x576 with 1 Axes>"
      ]
     },
     "metadata": {
      "needs_background": "light"
     },
     "output_type": "display_data"
    }
   ],
   "source": [
    "#acousticness\n",
    "fig = plt.figure(figsize = (12,8))\n",
    "plt.title(\"Acousticness hit / not-hit distribution\")\n",
    "pos_acousticness.hist(alpha = 0.7, bins = 30, label='hit')\n",
    "neg_acousticness.hist(alpha = 0.7, bins = 30, label='not-hit')\n",
    "plt.legend(loc = \"upper left\")\n",
    "plt.savefig('Resources/acousticness', dpi=100)"
   ]
  },
  {
   "cell_type": "code",
   "execution_count": 16,
   "id": "190aa90b",
   "metadata": {},
   "outputs": [
    {
     "data": {
      "image/png": "[encoded data removed]",
      "text/plain": [
       "<Figure size 864x576 with 1 Axes>"
      ]
     },
     "metadata": {
      "needs_background": "light"
     },
     "output_type": "display_data"
    }
   ],
   "source": [
    "#duration_ms\n",
    "fig = plt.figure(figsize = (12,8))\n",
    "plt.title(\"Duration(ms) hit / not-hit distribution\")\n",
    "pos_duration_ms.hist(alpha = 0.7, bins = 30, label='hit')\n",
    "neg_duration_ms.hist(alpha = 0.7, bins = 30, label='not-hit')\n",
    "plt.legend(loc = \"upper left\")\n",
    "plt.savefig('Resources/duration', dpi=100)"
   ]
  },
  {
   "cell_type": "code",
   "execution_count": 17,
   "id": "fda68af0",
   "metadata": {},
   "outputs": [
    {
     "data": {
      "image/png": "[encoded data removed]",
      "text/plain": [
       "<Figure size 864x576 with 1 Axes>"
      ]
     },
     "metadata": {
      "needs_background": "light"
     },
     "output_type": "display_data"
    }
   ],
   "source": [
    "#loudness\n",
    "fig = plt.figure(figsize = (12,8))\n",
    "plt.title(\"Loudness hit / not-hit distribution\")\n",
    "pos_loudness.hist(alpha = 0.7, bins = 30, label='hit')\n",
    "neg_loudness.hist(alpha = 0.7, bins = 30, label='not-hit')\n",
    "plt.legend(loc = \"upper left\")\n",
    "plt.savefig('Resources/loudness', dpi=100)"
   ]
  },
  {
   "cell_type": "code",
   "execution_count": 18,
   "id": "508e1530",
   "metadata": {},
   "outputs": [
    {
     "data": {
      "image/png": "[encoded data removed]",
      "text/plain": [
       "<Figure size 864x576 with 1 Axes>"
      ]
     },
     "metadata": {
      "needs_background": "light"
     },
     "output_type": "display_data"
    }
   ],
   "source": [
    "#instrumentalness\n",
    "fig = plt.figure(figsize = (12,8))\n",
    "plt.title(\"instrumentalness hit / not-hit distribution\")\n",
    "pos_instrumentalness.hist(alpha = 0.7, bins = 30, label='hit')\n",
    "neg_instrumentalness.hist(alpha = 0.7, bins = 30, label='not-hit')\n",
    "plt.legend(loc = \"upper left\")\n",
    "plt.savefig('Resources/instrument', dpi=100)"
   ]
  },
  {
   "cell_type": "code",
   "execution_count": 19,
   "id": "1be0b120",
   "metadata": {},
   "outputs": [
    {
     "data": {
      "image/png": "[encoded data removed]",
      "text/plain": [
       "<Figure size 864x576 with 1 Axes>"
      ]
     },
     "metadata": {
      "needs_background": "light"
     },
     "output_type": "display_data"
    }
   ],
   "source": [
    "#valence\n",
    "fig = plt.figure(figsize = (12,8))\n",
    "plt.title(\"valence hit / not-hit distribution\")\n",
    "pos_valence.hist(alpha = 0.7, bins = 30, label='hit')\n",
    "neg_valence.hist(alpha = 0.7, bins = 30, label='not-hit')\n",
    "plt.legend(loc = \"upper left\")\n",
    "plt.savefig('Resources/valence', dpi=100)"
   ]
  },
  {
   "cell_type": "code",
   "execution_count": 20,
   "id": "1988d5e8",
   "metadata": {},
   "outputs": [],
   "source": [
    "#min samples need to split the tree is 50 | less split = more dense the tree\n",
    "c = DecisionTreeClassifier(min_samples_split=100)"
   ]
  },
  {
   "cell_type": "code",
   "execution_count": 21,
   "id": "1594de76",
   "metadata": {},
   "outputs": [],
   "source": [
    "# features we want DT to consider as it is begining to be built & store it as a list\n",
    "attributes = [\"danceability\",\"energy\",\"tempo\",\"key\",\"acousticness\",\"loudness\",\"instrumentalness\",\"valence\",\"duration_ms\"]"
   ]
  },
  {
   "cell_type": "code",
   "execution_count": 22,
   "id": "8f071d15",
   "metadata": {},
   "outputs": [],
   "source": [
    "#define training & test set\n",
    "X_train = train[attributes]\n",
    "y_train = train[\"rank\"]\n",
    "\n",
    "X_test = test[attributes]\n",
    "y_test = test[\"rank\"]"
   ]
  },
  {
   "cell_type": "code",
   "execution_count": 23,
   "id": "d618b736",
   "metadata": {},
   "outputs": [],
   "source": [
    "dt = c.fit(X_train,y_train)"
   ]
  },
  {
   "cell_type": "code",
   "execution_count": 24,
   "id": "1cc5c3a9",
   "metadata": {},
   "outputs": [
    {
     "data": {
      "image/png": "[encoded data removed]",
      "text/plain": [
       "<Figure size 1440x2160 with 1 Axes>"
      ]
     },
     "metadata": {
      "needs_background": "light"
     },
     "output_type": "display_data"
    }
   ],
   "source": [
    "#decision tree image\n",
    "plt.figure(figsize=(20,30))\n",
    "tree.plot_tree(dt, feature_names = attributes, fontsize = 10)\n",
    "plt.savefig('Resources/tree_high_dpi', dpi=100)"
   ]
  },
  {
   "cell_type": "code",
   "execution_count": 25,
   "id": "54dea8bf",
   "metadata": {},
   "outputs": [],
   "source": [
    "predictions = c.predict(X_test)"
   ]
  },
  {
   "cell_type": "code",
   "execution_count": 26,
   "id": "051558d7",
   "metadata": {},
   "outputs": [
    {
     "data": {
      "text/plain": [
       "array([1, 0, 0, 0, 1, 0, 0, 1, 0, 0, 0, 0, 1, 0, 1, 0, 1, 1, 1, 1, 1, 1,\n",
       "       0, 0, 1, 0, 1, 0, 0, 0, 1, 1, 1, 0, 0, 0, 1, 0, 0, 0, 1, 0, 1, 1,\n",
       "       1, 1, 0, 0, 1, 1, 1, 1, 0, 1, 1, 0, 1, 0, 1, 1, 0, 1, 1, 1, 1, 1,\n",
       "       1, 0, 1, 1, 0, 1, 0, 1, 0, 1, 0, 1, 1, 1, 1, 1, 0, 1, 1, 1, 1, 1,\n",
       "       0, 0, 0, 1, 1, 0, 1, 1, 0, 0, 0, 0, 0, 1, 1, 1, 1, 0, 0, 0, 1, 1,\n",
       "       0, 1, 1, 1, 0, 1, 0, 0, 0, 1, 1, 0, 1, 1, 1, 0, 1, 1, 0, 1, 1, 0,\n",
       "       0, 0, 1, 0, 0, 1, 1, 1, 0, 0, 1, 1, 1, 0, 0, 0, 1, 1, 1, 0, 0, 0,\n",
       "       1, 1, 1, 1, 0, 1, 1, 1, 0, 1, 1, 0, 0, 0, 0, 1, 1, 0, 0, 1, 0, 0,\n",
       "       0, 1, 1, 1, 1, 0], dtype=int64)"
      ]
     },
     "execution_count": 26,
     "metadata": {},
     "output_type": "execute_result"
    }
   ],
   "source": [
    "predictions"
   ]
  },
  {
   "cell_type": "code",
   "execution_count": 27,
   "id": "30fb7c52",
   "metadata": {},
   "outputs": [
    {
     "data": {
      "image/png": "[encoded data removed]",
      "text/plain": [
       "<Figure size 432x288 with 2 Axes>"
      ]
     },
     "metadata": {
      "needs_background": "light"
     },
     "output_type": "display_data"
    },
    {
     "data": {
      "text/html": [
       "<div>\n",
       "<style scoped>\n",
       "    .dataframe tbody tr th:only-of-type {\n",
       "        vertical-align: middle;\n",
       "    }\n",
       "\n",
       "    .dataframe tbody tr th {\n",
       "        vertical-align: top;\n",
       "    }\n",
       "\n",
       "    .dataframe thead th {\n",
       "        text-align: right;\n",
       "    }\n",
       "</style>\n",
       "<table border=\"1\" class=\"dataframe\">\n",
       "  <thead>\n",
       "    <tr style=\"text-align: right;\">\n",
       "      <th></th>\n",
       "      <th>Predicted 1</th>\n",
       "      <th>Predicted 0</th>\n",
       "    </tr>\n",
       "  </thead>\n",
       "  <tbody>\n",
       "    <tr>\n",
       "      <th>Actual 1</th>\n",
       "      <td>38</td>\n",
       "      <td>34</td>\n",
       "    </tr>\n",
       "    <tr>\n",
       "      <th>Actual 0</th>\n",
       "      <td>43</td>\n",
       "      <td>67</td>\n",
       "    </tr>\n",
       "  </tbody>\n",
       "</table>\n",
       "</div>"
      ],
      "text/plain": [
       "          Predicted 1  Predicted 0\n",
       "Actual 1           38           34\n",
       "Actual 0           43           67"
      ]
     },
     "execution_count": 27,
     "metadata": {},
     "output_type": "execute_result"
    }
   ],
   "source": [
    "#testing accuracy\n",
    "from sklearn.preprocessing import StandardScaler\n",
    "from sklearn.metrics import confusion_matrix, accuracy_score, classification_report\n",
    "\n",
    "# Calculating the confusion matrix\n",
    "cm = confusion_matrix(y_test, predictions)\n",
    "\n",
    "# Create a DataFrame from the confusion matrix.\n",
    "cm_df = pd.DataFrame(\n",
    "    cm, index=[\"Actual 1\", \"Actual 0\"], columns=[\"Predicted 1\", \"Predicted 0\"])\n",
    "sns.heatmap(cm_df,cmap=\"Blues\", annot=True,\n",
    "           )\n",
    "plt.show()\n",
    "\n",
    "cm_df\n",
    "\n",
    "\n",
    "# Out of the songs that are not in Top 20s, \n",
    "# out of 71 songs that met the attribute requirements 38 are predicted to be hits (True positive)\n",
    "# 32 are predicted to fall, although they meet the requirement (Fasle Negative)\n",
    "# 44 are predicted to be hits with out meeting the requirements (False Positive)\n",
    "# 67 are destined to be out of Top 20s (True Negative)"
   ]
  },
  {
   "cell_type": "code",
   "execution_count": 28,
   "id": "bd598ad0",
   "metadata": {},
   "outputs": [],
   "source": [
    "cm_df.to_csv(\"Resources/prediction.csv\")"
   ]
  },
  {
   "cell_type": "code",
   "execution_count": 29,
   "id": "bb4bf818",
   "metadata": {},
   "outputs": [],
   "source": [
    "score = accuracy_score(y_test, predictions) * 100"
   ]
  },
  {
   "cell_type": "code",
   "execution_count": 30,
   "id": "f6c862cc",
   "metadata": {},
   "outputs": [
    {
     "name": "stdout",
     "output_type": "stream",
     "text": [
      "Confusion Matrix\n"
     ]
    },
    {
     "data": {
      "text/html": [
       "<div>\n",
       "<style scoped>\n",
       "    .dataframe tbody tr th:only-of-type {\n",
       "        vertical-align: middle;\n",
       "    }\n",
       "\n",
       "    .dataframe tbody tr th {\n",
       "        vertical-align: top;\n",
       "    }\n",
       "\n",
       "    .dataframe thead th {\n",
       "        text-align: right;\n",
       "    }\n",
       "</style>\n",
       "<table border=\"1\" class=\"dataframe\">\n",
       "  <thead>\n",
       "    <tr style=\"text-align: right;\">\n",
       "      <th></th>\n",
       "      <th>Predicted 1</th>\n",
       "      <th>Predicted 0</th>\n",
       "    </tr>\n",
       "  </thead>\n",
       "  <tbody>\n",
       "    <tr>\n",
       "      <th>Actual 1</th>\n",
       "      <td>38</td>\n",
       "      <td>34</td>\n",
       "    </tr>\n",
       "    <tr>\n",
       "      <th>Actual 0</th>\n",
       "      <td>43</td>\n",
       "      <td>67</td>\n",
       "    </tr>\n",
       "  </tbody>\n",
       "</table>\n",
       "</div>"
      ],
      "text/plain": [
       "          Predicted 1  Predicted 0\n",
       "Actual 1           38           34\n",
       "Actual 0           43           67"
      ]
     },
     "metadata": {},
     "output_type": "display_data"
    },
    {
     "name": "stdout",
     "output_type": "stream",
     "text": [
      "Accuracy Score : 57.692307692307686\n",
      "Classification Report\n",
      "              precision    recall  f1-score   support\n",
      "\n",
      "           0       0.47      0.53      0.50        72\n",
      "           1       0.66      0.61      0.64       110\n",
      "\n",
      "    accuracy                           0.58       182\n",
      "   macro avg       0.57      0.57      0.57       182\n",
      "weighted avg       0.59      0.58      0.58       182\n",
      "\n"
     ]
    }
   ],
   "source": [
    "# Displaying results\n",
    "print(\"Confusion Matrix\")\n",
    "display(cm_df)\n",
    "print(f\"Accuracy Score : {score}\")\n",
    "print(\"Classification Report\")\n",
    "print(classification_report(y_test, predictions))"
   ]
  },
  {
   "cell_type": "code",
   "execution_count": 31,
   "id": "10f158e6",
   "metadata": {},
   "outputs": [],
   "source": [
    "#Precision: Precision is the measure of how reliable a positive classification is. \n",
    "#Recall: Recall is the ability of the classifier to find all the positive samples. A low recall is indicative of a large number of false negatives.\n",
    "#F1 score: F1 score is a weighted average of the true positive rate (recall) and precision, where the best score is 1.0 and the worst is 0.0.\n",
    "#Support: Support is the number of actual occurrences of the class in the specified dataset. "
   ]
  },
  {
   "cell_type": "markdown",
   "id": "48cee30c",
   "metadata": {},
   "source": [
    "## RandomForest Classifier"
   ]
  },
  {
   "cell_type": "code",
   "execution_count": 70,
   "id": "b401175a",
   "metadata": {},
   "outputs": [],
   "source": [
    "from sklearn.ensemble import RandomForestClassifier"
   ]
  },
  {
   "cell_type": "code",
   "execution_count": 71,
   "id": "defd3fb5",
   "metadata": {},
   "outputs": [
    {
     "data": {
      "text/html": [
       "<div>\n",
       "<style scoped>\n",
       "    .dataframe tbody tr th:only-of-type {\n",
       "        vertical-align: middle;\n",
       "    }\n",
       "\n",
       "    .dataframe tbody tr th {\n",
       "        vertical-align: top;\n",
       "    }\n",
       "\n",
       "    .dataframe thead th {\n",
       "        text-align: right;\n",
       "    }\n",
       "</style>\n",
       "<table border=\"1\" class=\"dataframe\">\n",
       "  <thead>\n",
       "    <tr style=\"text-align: right;\">\n",
       "      <th></th>\n",
       "      <th>danceability</th>\n",
       "      <th>energy</th>\n",
       "      <th>key</th>\n",
       "      <th>loudness</th>\n",
       "      <th>rank</th>\n",
       "      <th>speechiness</th>\n",
       "      <th>acousticness</th>\n",
       "      <th>instrumentalness</th>\n",
       "      <th>liveness</th>\n",
       "      <th>valence</th>\n",
       "      <th>tempo</th>\n",
       "      <th>duration_ms</th>\n",
       "      <th>time_signature</th>\n",
       "    </tr>\n",
       "  </thead>\n",
       "  <tbody>\n",
       "    <tr>\n",
       "      <th>count</th>\n",
       "      <td>1212.000000</td>\n",
       "      <td>1212.000000</td>\n",
       "      <td>1212.000000</td>\n",
       "      <td>1212.000000</td>\n",
       "      <td>1212.000000</td>\n",
       "      <td>1212.000000</td>\n",
       "      <td>1212.000000</td>\n",
       "      <td>1212.000000</td>\n",
       "      <td>1212.000000</td>\n",
       "      <td>1212.000000</td>\n",
       "      <td>1212.000000</td>\n",
       "      <td>1212.000000</td>\n",
       "      <td>1212.000000</td>\n",
       "    </tr>\n",
       "    <tr>\n",
       "      <th>mean</th>\n",
       "      <td>0.696627</td>\n",
       "      <td>0.645409</td>\n",
       "      <td>5.383663</td>\n",
       "      <td>-6.114266</td>\n",
       "      <td>0.573432</td>\n",
       "      <td>0.123672</td>\n",
       "      <td>0.230912</td>\n",
       "      <td>0.006635</td>\n",
       "      <td>0.172708</td>\n",
       "      <td>0.511855</td>\n",
       "      <td>121.722182</td>\n",
       "      <td>203088.907591</td>\n",
       "      <td>3.975248</td>\n",
       "    </tr>\n",
       "    <tr>\n",
       "      <th>std</th>\n",
       "      <td>0.138945</td>\n",
       "      <td>0.153687</td>\n",
       "      <td>3.650797</td>\n",
       "      <td>2.291785</td>\n",
       "      <td>0.494782</td>\n",
       "      <td>0.110630</td>\n",
       "      <td>0.231870</td>\n",
       "      <td>0.046332</td>\n",
       "      <td>0.134128</td>\n",
       "      <td>0.222714</td>\n",
       "      <td>29.864847</td>\n",
       "      <td>46245.684556</td>\n",
       "      <td>0.252579</td>\n",
       "    </tr>\n",
       "    <tr>\n",
       "      <th>min</th>\n",
       "      <td>0.238000</td>\n",
       "      <td>0.111000</td>\n",
       "      <td>0.000000</td>\n",
       "      <td>-18.435000</td>\n",
       "      <td>0.000000</td>\n",
       "      <td>0.023200</td>\n",
       "      <td>0.000025</td>\n",
       "      <td>0.000000</td>\n",
       "      <td>0.021500</td>\n",
       "      <td>0.037000</td>\n",
       "      <td>62.948000</td>\n",
       "      <td>30583.000000</td>\n",
       "      <td>1.000000</td>\n",
       "    </tr>\n",
       "    <tr>\n",
       "      <th>25%</th>\n",
       "      <td>0.611000</td>\n",
       "      <td>0.541000</td>\n",
       "      <td>2.000000</td>\n",
       "      <td>-7.226250</td>\n",
       "      <td>0.000000</td>\n",
       "      <td>0.046575</td>\n",
       "      <td>0.047575</td>\n",
       "      <td>0.000000</td>\n",
       "      <td>0.093600</td>\n",
       "      <td>0.339000</td>\n",
       "      <td>96.470250</td>\n",
       "      <td>174396.250000</td>\n",
       "      <td>4.000000</td>\n",
       "    </tr>\n",
       "    <tr>\n",
       "      <th>50%</th>\n",
       "      <td>0.714000</td>\n",
       "      <td>0.664000</td>\n",
       "      <td>6.000000</td>\n",
       "      <td>-5.754500</td>\n",
       "      <td>1.000000</td>\n",
       "      <td>0.077000</td>\n",
       "      <td>0.152000</td>\n",
       "      <td>0.000000</td>\n",
       "      <td>0.119000</td>\n",
       "      <td>0.513500</td>\n",
       "      <td>119.942000</td>\n",
       "      <td>199604.000000</td>\n",
       "      <td>4.000000</td>\n",
       "    </tr>\n",
       "    <tr>\n",
       "      <th>75%</th>\n",
       "      <td>0.799250</td>\n",
       "      <td>0.762000</td>\n",
       "      <td>8.000000</td>\n",
       "      <td>-4.611250</td>\n",
       "      <td>1.000000</td>\n",
       "      <td>0.162500</td>\n",
       "      <td>0.336000</td>\n",
       "      <td>0.000026</td>\n",
       "      <td>0.195000</td>\n",
       "      <td>0.681250</td>\n",
       "      <td>141.228750</td>\n",
       "      <td>226119.250000</td>\n",
       "      <td>4.000000</td>\n",
       "    </tr>\n",
       "    <tr>\n",
       "      <th>max</th>\n",
       "      <td>0.970000</td>\n",
       "      <td>0.972000</td>\n",
       "      <td>11.000000</td>\n",
       "      <td>-0.515000</td>\n",
       "      <td>1.000000</td>\n",
       "      <td>0.856000</td>\n",
       "      <td>0.991000</td>\n",
       "      <td>0.657000</td>\n",
       "      <td>0.920000</td>\n",
       "      <td>0.972000</td>\n",
       "      <td>203.927000</td>\n",
       "      <td>588139.000000</td>\n",
       "      <td>5.000000</td>\n",
       "    </tr>\n",
       "  </tbody>\n",
       "</table>\n",
       "</div>"
      ],
      "text/plain": [
       "       danceability       energy          key     loudness         rank  \\\n",
       "count   1212.000000  1212.000000  1212.000000  1212.000000  1212.000000   \n",
       "mean       0.696627     0.645409     5.383663    -6.114266     0.573432   \n",
       "std        0.138945     0.153687     3.650797     2.291785     0.494782   \n",
       "min        0.238000     0.111000     0.000000   -18.435000     0.000000   \n",
       "25%        0.611000     0.541000     2.000000    -7.226250     0.000000   \n",
       "50%        0.714000     0.664000     6.000000    -5.754500     1.000000   \n",
       "75%        0.799250     0.762000     8.000000    -4.611250     1.000000   \n",
       "max        0.970000     0.972000    11.000000    -0.515000     1.000000   \n",
       "\n",
       "       speechiness  acousticness  instrumentalness     liveness      valence  \\\n",
       "count  1212.000000   1212.000000       1212.000000  1212.000000  1212.000000   \n",
       "mean      0.123672      0.230912          0.006635     0.172708     0.511855   \n",
       "std       0.110630      0.231870          0.046332     0.134128     0.222714   \n",
       "min       0.023200      0.000025          0.000000     0.021500     0.037000   \n",
       "25%       0.046575      0.047575          0.000000     0.093600     0.339000   \n",
       "50%       0.077000      0.152000          0.000000     0.119000     0.513500   \n",
       "75%       0.162500      0.336000          0.000026     0.195000     0.681250   \n",
       "max       0.856000      0.991000          0.657000     0.920000     0.972000   \n",
       "\n",
       "             tempo    duration_ms  time_signature  \n",
       "count  1212.000000    1212.000000     1212.000000  \n",
       "mean    121.722182  203088.907591        3.975248  \n",
       "std      29.864847   46245.684556        0.252579  \n",
       "min      62.948000   30583.000000        1.000000  \n",
       "25%      96.470250  174396.250000        4.000000  \n",
       "50%     119.942000  199604.000000        4.000000  \n",
       "75%     141.228750  226119.250000        4.000000  \n",
       "max     203.927000  588139.000000        5.000000  "
      ]
     },
     "execution_count": 71,
     "metadata": {},
     "output_type": "execute_result"
    }
   ],
   "source": [
    "# Loading data\n",
    "file_path = Path(\"Resources/track_analytics_full.csv\")\n",
    "df_tracks = pd.read_csv(file_path)\n",
    "df_tracks.describe()"
   ]
  },
  {
   "cell_type": "code",
   "execution_count": 181,
   "id": "72bc7a65",
   "metadata": {},
   "outputs": [
    {
     "data": {
      "text/html": [
       "<div>\n",
       "<style scoped>\n",
       "    .dataframe tbody tr th:only-of-type {\n",
       "        vertical-align: middle;\n",
       "    }\n",
       "\n",
       "    .dataframe tbody tr th {\n",
       "        vertical-align: top;\n",
       "    }\n",
       "\n",
       "    .dataframe thead th {\n",
       "        text-align: right;\n",
       "    }\n",
       "</style>\n",
       "<table border=\"1\" class=\"dataframe\">\n",
       "  <thead>\n",
       "    <tr style=\"text-align: right;\">\n",
       "      <th></th>\n",
       "      <th>danceability</th>\n",
       "      <th>energy</th>\n",
       "      <th>key</th>\n",
       "      <th>loudness</th>\n",
       "      <th>speechiness</th>\n",
       "      <th>acousticness</th>\n",
       "      <th>instrumentalness</th>\n",
       "      <th>liveness</th>\n",
       "      <th>valence</th>\n",
       "      <th>tempo</th>\n",
       "      <th>duration_ms</th>\n",
       "      <th>time_signature</th>\n",
       "    </tr>\n",
       "  </thead>\n",
       "  <tbody>\n",
       "    <tr>\n",
       "      <th>count</th>\n",
       "      <td>1212.000000</td>\n",
       "      <td>1212.000000</td>\n",
       "      <td>1212.000000</td>\n",
       "      <td>1212.000000</td>\n",
       "      <td>1212.000000</td>\n",
       "      <td>1212.000000</td>\n",
       "      <td>1212.000000</td>\n",
       "      <td>1212.000000</td>\n",
       "      <td>1212.000000</td>\n",
       "      <td>1212.000000</td>\n",
       "      <td>1212.000000</td>\n",
       "      <td>1212.000000</td>\n",
       "    </tr>\n",
       "    <tr>\n",
       "      <th>mean</th>\n",
       "      <td>0.696627</td>\n",
       "      <td>0.645409</td>\n",
       "      <td>5.383663</td>\n",
       "      <td>-6.114266</td>\n",
       "      <td>0.123672</td>\n",
       "      <td>0.230912</td>\n",
       "      <td>0.006635</td>\n",
       "      <td>0.172708</td>\n",
       "      <td>0.511855</td>\n",
       "      <td>121.722182</td>\n",
       "      <td>203088.907591</td>\n",
       "      <td>3.975248</td>\n",
       "    </tr>\n",
       "    <tr>\n",
       "      <th>std</th>\n",
       "      <td>0.138945</td>\n",
       "      <td>0.153687</td>\n",
       "      <td>3.650797</td>\n",
       "      <td>2.291785</td>\n",
       "      <td>0.110630</td>\n",
       "      <td>0.231870</td>\n",
       "      <td>0.046332</td>\n",
       "      <td>0.134128</td>\n",
       "      <td>0.222714</td>\n",
       "      <td>29.864847</td>\n",
       "      <td>46245.684556</td>\n",
       "      <td>0.252579</td>\n",
       "    </tr>\n",
       "    <tr>\n",
       "      <th>min</th>\n",
       "      <td>0.238000</td>\n",
       "      <td>0.111000</td>\n",
       "      <td>0.000000</td>\n",
       "      <td>-18.435000</td>\n",
       "      <td>0.023200</td>\n",
       "      <td>0.000025</td>\n",
       "      <td>0.000000</td>\n",
       "      <td>0.021500</td>\n",
       "      <td>0.037000</td>\n",
       "      <td>62.948000</td>\n",
       "      <td>30583.000000</td>\n",
       "      <td>1.000000</td>\n",
       "    </tr>\n",
       "    <tr>\n",
       "      <th>25%</th>\n",
       "      <td>0.611000</td>\n",
       "      <td>0.541000</td>\n",
       "      <td>2.000000</td>\n",
       "      <td>-7.226250</td>\n",
       "      <td>0.046575</td>\n",
       "      <td>0.047575</td>\n",
       "      <td>0.000000</td>\n",
       "      <td>0.093600</td>\n",
       "      <td>0.339000</td>\n",
       "      <td>96.470250</td>\n",
       "      <td>174396.250000</td>\n",
       "      <td>4.000000</td>\n",
       "    </tr>\n",
       "    <tr>\n",
       "      <th>50%</th>\n",
       "      <td>0.714000</td>\n",
       "      <td>0.664000</td>\n",
       "      <td>6.000000</td>\n",
       "      <td>-5.754500</td>\n",
       "      <td>0.077000</td>\n",
       "      <td>0.152000</td>\n",
       "      <td>0.000000</td>\n",
       "      <td>0.119000</td>\n",
       "      <td>0.513500</td>\n",
       "      <td>119.942000</td>\n",
       "      <td>199604.000000</td>\n",
       "      <td>4.000000</td>\n",
       "    </tr>\n",
       "    <tr>\n",
       "      <th>75%</th>\n",
       "      <td>0.799250</td>\n",
       "      <td>0.762000</td>\n",
       "      <td>8.000000</td>\n",
       "      <td>-4.611250</td>\n",
       "      <td>0.162500</td>\n",
       "      <td>0.336000</td>\n",
       "      <td>0.000026</td>\n",
       "      <td>0.195000</td>\n",
       "      <td>0.681250</td>\n",
       "      <td>141.228750</td>\n",
       "      <td>226119.250000</td>\n",
       "      <td>4.000000</td>\n",
       "    </tr>\n",
       "    <tr>\n",
       "      <th>max</th>\n",
       "      <td>0.970000</td>\n",
       "      <td>0.972000</td>\n",
       "      <td>11.000000</td>\n",
       "      <td>-0.515000</td>\n",
       "      <td>0.856000</td>\n",
       "      <td>0.991000</td>\n",
       "      <td>0.657000</td>\n",
       "      <td>0.920000</td>\n",
       "      <td>0.972000</td>\n",
       "      <td>203.927000</td>\n",
       "      <td>588139.000000</td>\n",
       "      <td>5.000000</td>\n",
       "    </tr>\n",
       "  </tbody>\n",
       "</table>\n",
       "</div>"
      ],
      "text/plain": [
       "       danceability       energy          key     loudness  speechiness  \\\n",
       "count   1212.000000  1212.000000  1212.000000  1212.000000  1212.000000   \n",
       "mean       0.696627     0.645409     5.383663    -6.114266     0.123672   \n",
       "std        0.138945     0.153687     3.650797     2.291785     0.110630   \n",
       "min        0.238000     0.111000     0.000000   -18.435000     0.023200   \n",
       "25%        0.611000     0.541000     2.000000    -7.226250     0.046575   \n",
       "50%        0.714000     0.664000     6.000000    -5.754500     0.077000   \n",
       "75%        0.799250     0.762000     8.000000    -4.611250     0.162500   \n",
       "max        0.970000     0.972000    11.000000    -0.515000     0.856000   \n",
       "\n",
       "       acousticness  instrumentalness     liveness      valence        tempo  \\\n",
       "count   1212.000000       1212.000000  1212.000000  1212.000000  1212.000000   \n",
       "mean       0.230912          0.006635     0.172708     0.511855   121.722182   \n",
       "std        0.231870          0.046332     0.134128     0.222714    29.864847   \n",
       "min        0.000025          0.000000     0.021500     0.037000    62.948000   \n",
       "25%        0.047575          0.000000     0.093600     0.339000    96.470250   \n",
       "50%        0.152000          0.000000     0.119000     0.513500   119.942000   \n",
       "75%        0.336000          0.000026     0.195000     0.681250   141.228750   \n",
       "max        0.991000          0.657000     0.920000     0.972000   203.927000   \n",
       "\n",
       "         duration_ms  time_signature  \n",
       "count    1212.000000     1212.000000  \n",
       "mean   203088.907591        3.975248  \n",
       "std     46245.684556        0.252579  \n",
       "min     30583.000000        1.000000  \n",
       "25%    174396.250000        4.000000  \n",
       "50%    199604.000000        4.000000  \n",
       "75%    226119.250000        4.000000  \n",
       "max    588139.000000        5.000000  "
      ]
     },
     "execution_count": 181,
     "metadata": {},
     "output_type": "execute_result"
    }
   ],
   "source": [
    "# Define the features set.\n",
    "X = df_tracks.copy()\n",
    "X = X.drop(\"rank\",axis=1)\n",
    "X.describe()"
   ]
  },
  {
   "cell_type": "code",
   "execution_count": 182,
   "id": "b97f4713",
   "metadata": {},
   "outputs": [],
   "source": [
    "X = X.drop(\"type\",axis=1)\n",
    "X = X.drop(\"uri\",axis=1)\n",
    "X = X.drop(\"id\",axis=1)\n",
    "X = X.drop(\"track_href\",axis=1)\n",
    "X= X.drop(\"analysis_url\", axis=1)"
   ]
  },
  {
   "cell_type": "code",
   "execution_count": 183,
   "id": "2ede2a6f",
   "metadata": {},
   "outputs": [
    {
     "data": {
      "text/plain": [
       "array([1, 1, 0, 0, 0], dtype=int64)"
      ]
     },
     "execution_count": 183,
     "metadata": {},
     "output_type": "execute_result"
    }
   ],
   "source": [
    "# Define the target set.\n",
    "y = df_tracks[\"rank\"].ravel()\n",
    "y[:5]"
   ]
  },
  {
   "cell_type": "code",
   "execution_count": 184,
   "id": "0041d8a9",
   "metadata": {},
   "outputs": [
    {
     "data": {
      "text/html": [
       "<div>\n",
       "<style scoped>\n",
       "    .dataframe tbody tr th:only-of-type {\n",
       "        vertical-align: middle;\n",
       "    }\n",
       "\n",
       "    .dataframe tbody tr th {\n",
       "        vertical-align: top;\n",
       "    }\n",
       "\n",
       "    .dataframe thead th {\n",
       "        text-align: right;\n",
       "    }\n",
       "</style>\n",
       "<table border=\"1\" class=\"dataframe\">\n",
       "  <thead>\n",
       "    <tr style=\"text-align: right;\">\n",
       "      <th></th>\n",
       "      <th>danceability</th>\n",
       "      <th>energy</th>\n",
       "      <th>key</th>\n",
       "      <th>loudness</th>\n",
       "      <th>speechiness</th>\n",
       "      <th>acousticness</th>\n",
       "      <th>instrumentalness</th>\n",
       "      <th>liveness</th>\n",
       "      <th>valence</th>\n",
       "      <th>tempo</th>\n",
       "      <th>duration_ms</th>\n",
       "      <th>time_signature</th>\n",
       "    </tr>\n",
       "  </thead>\n",
       "  <tbody>\n",
       "    <tr>\n",
       "      <th>0</th>\n",
       "      <td>0.735</td>\n",
       "      <td>0.482</td>\n",
       "      <td>8</td>\n",
       "      <td>-9.445</td>\n",
       "      <td>0.1390</td>\n",
       "      <td>0.00623</td>\n",
       "      <td>0.014400</td>\n",
       "      <td>0.4480</td>\n",
       "      <td>0.315</td>\n",
       "      <td>181.995</td>\n",
       "      <td>217933</td>\n",
       "      <td>4</td>\n",
       "    </tr>\n",
       "    <tr>\n",
       "      <th>1</th>\n",
       "      <td>0.835</td>\n",
       "      <td>0.626</td>\n",
       "      <td>1</td>\n",
       "      <td>-5.833</td>\n",
       "      <td>0.1250</td>\n",
       "      <td>0.05890</td>\n",
       "      <td>0.000060</td>\n",
       "      <td>0.3960</td>\n",
       "      <td>0.350</td>\n",
       "      <td>91.030</td>\n",
       "      <td>217925</td>\n",
       "      <td>4</td>\n",
       "    </tr>\n",
       "    <tr>\n",
       "      <th>2</th>\n",
       "      <td>0.759</td>\n",
       "      <td>0.540</td>\n",
       "      <td>9</td>\n",
       "      <td>-6.039</td>\n",
       "      <td>0.0287</td>\n",
       "      <td>0.03700</td>\n",
       "      <td>0.000000</td>\n",
       "      <td>0.0945</td>\n",
       "      <td>0.750</td>\n",
       "      <td>116.947</td>\n",
       "      <td>190960</td>\n",
       "      <td>4</td>\n",
       "    </tr>\n",
       "    <tr>\n",
       "      <th>3</th>\n",
       "      <td>0.909</td>\n",
       "      <td>0.405</td>\n",
       "      <td>6</td>\n",
       "      <td>-8.133</td>\n",
       "      <td>0.1400</td>\n",
       "      <td>0.03060</td>\n",
       "      <td>0.006980</td>\n",
       "      <td>0.1050</td>\n",
       "      <td>0.455</td>\n",
       "      <td>154.984</td>\n",
       "      <td>238613</td>\n",
       "      <td>4</td>\n",
       "    </tr>\n",
       "    <tr>\n",
       "      <th>4</th>\n",
       "      <td>0.759</td>\n",
       "      <td>0.548</td>\n",
       "      <td>9</td>\n",
       "      <td>-6.049</td>\n",
       "      <td>0.0290</td>\n",
       "      <td>0.03920</td>\n",
       "      <td>0.000000</td>\n",
       "      <td>0.0828</td>\n",
       "      <td>0.749</td>\n",
       "      <td>116.967</td>\n",
       "      <td>190800</td>\n",
       "      <td>4</td>\n",
       "    </tr>\n",
       "    <tr>\n",
       "      <th>5</th>\n",
       "      <td>0.746</td>\n",
       "      <td>0.690</td>\n",
       "      <td>11</td>\n",
       "      <td>-7.956</td>\n",
       "      <td>0.1640</td>\n",
       "      <td>0.24700</td>\n",
       "      <td>0.000000</td>\n",
       "      <td>0.1010</td>\n",
       "      <td>0.497</td>\n",
       "      <td>89.977</td>\n",
       "      <td>181733</td>\n",
       "      <td>4</td>\n",
       "    </tr>\n",
       "    <tr>\n",
       "      <th>6</th>\n",
       "      <td>0.613</td>\n",
       "      <td>0.581</td>\n",
       "      <td>0</td>\n",
       "      <td>-8.588</td>\n",
       "      <td>0.0424</td>\n",
       "      <td>0.53700</td>\n",
       "      <td>0.000345</td>\n",
       "      <td>0.2500</td>\n",
       "      <td>0.551</td>\n",
       "      <td>130.033</td>\n",
       "      <td>239560</td>\n",
       "      <td>4</td>\n",
       "    </tr>\n",
       "    <tr>\n",
       "      <th>7</th>\n",
       "      <td>0.563</td>\n",
       "      <td>0.664</td>\n",
       "      <td>9</td>\n",
       "      <td>-5.044</td>\n",
       "      <td>0.1540</td>\n",
       "      <td>0.33500</td>\n",
       "      <td>0.000000</td>\n",
       "      <td>0.0849</td>\n",
       "      <td>0.688</td>\n",
       "      <td>166.928</td>\n",
       "      <td>178147</td>\n",
       "      <td>4</td>\n",
       "    </tr>\n",
       "    <tr>\n",
       "      <th>8</th>\n",
       "      <td>0.714</td>\n",
       "      <td>0.800</td>\n",
       "      <td>11</td>\n",
       "      <td>-4.808</td>\n",
       "      <td>0.0504</td>\n",
       "      <td>0.12700</td>\n",
       "      <td>0.000000</td>\n",
       "      <td>0.3590</td>\n",
       "      <td>0.589</td>\n",
       "      <td>134.002</td>\n",
       "      <td>211560</td>\n",
       "      <td>4</td>\n",
       "    </tr>\n",
       "    <tr>\n",
       "      <th>9</th>\n",
       "      <td>0.629</td>\n",
       "      <td>0.547</td>\n",
       "      <td>10</td>\n",
       "      <td>-13.123</td>\n",
       "      <td>0.0550</td>\n",
       "      <td>0.72000</td>\n",
       "      <td>0.003140</td>\n",
       "      <td>0.0604</td>\n",
       "      <td>0.197</td>\n",
       "      <td>108.375</td>\n",
       "      <td>298933</td>\n",
       "      <td>4</td>\n",
       "    </tr>\n",
       "  </tbody>\n",
       "</table>\n",
       "</div>"
      ],
      "text/plain": [
       "   danceability  energy  key  loudness  speechiness  acousticness  \\\n",
       "0         0.735   0.482    8    -9.445       0.1390       0.00623   \n",
       "1         0.835   0.626    1    -5.833       0.1250       0.05890   \n",
       "2         0.759   0.540    9    -6.039       0.0287       0.03700   \n",
       "3         0.909   0.405    6    -8.133       0.1400       0.03060   \n",
       "4         0.759   0.548    9    -6.049       0.0290       0.03920   \n",
       "5         0.746   0.690   11    -7.956       0.1640       0.24700   \n",
       "6         0.613   0.581    0    -8.588       0.0424       0.53700   \n",
       "7         0.563   0.664    9    -5.044       0.1540       0.33500   \n",
       "8         0.714   0.800   11    -4.808       0.0504       0.12700   \n",
       "9         0.629   0.547   10   -13.123       0.0550       0.72000   \n",
       "\n",
       "   instrumentalness  liveness  valence    tempo  duration_ms  time_signature  \n",
       "0          0.014400    0.4480    0.315  181.995       217933               4  \n",
       "1          0.000060    0.3960    0.350   91.030       217925               4  \n",
       "2          0.000000    0.0945    0.750  116.947       190960               4  \n",
       "3          0.006980    0.1050    0.455  154.984       238613               4  \n",
       "4          0.000000    0.0828    0.749  116.967       190800               4  \n",
       "5          0.000000    0.1010    0.497   89.977       181733               4  \n",
       "6          0.000345    0.2500    0.551  130.033       239560               4  \n",
       "7          0.000000    0.0849    0.688  166.928       178147               4  \n",
       "8          0.000000    0.3590    0.589  134.002       211560               4  \n",
       "9          0.003140    0.0604    0.197  108.375       298933               4  "
      ]
     },
     "execution_count": 184,
     "metadata": {},
     "output_type": "execute_result"
    }
   ],
   "source": [
    "# Splitting into Train and Test sets.\n",
    "X_train, X_test, y_train, y_test = train_test_split(X, y, random_state=78)\n",
    "X[:10]"
   ]
  },
  {
   "cell_type": "code",
   "execution_count": 185,
   "id": "2f821053",
   "metadata": {},
   "outputs": [],
   "source": [
    "# Creating a StandardScaler instance.\n",
    "scaler = StandardScaler()\n",
    "# Fitting the Standard Scaler with the training data.\n",
    "X_scaler = scaler.fit(X_train)"
   ]
  },
  {
   "cell_type": "code",
   "execution_count": 186,
   "id": "d989cd9a",
   "metadata": {},
   "outputs": [],
   "source": [
    "# Scaling the data.\n",
    "X_train_scaled = X_scaler.transform(X_train)\n",
    "X_test_scaled = X_scaler.transform(X_test)"
   ]
  },
  {
   "cell_type": "code",
   "execution_count": 187,
   "id": "e6ce1a1e",
   "metadata": {},
   "outputs": [],
   "source": [
    "# Create a random forest classifier.\n",
    "rf_model = RandomForestClassifier(n_estimators=100, random_state=78) "
   ]
  },
  {
   "cell_type": "code",
   "execution_count": 188,
   "id": "72482684",
   "metadata": {},
   "outputs": [],
   "source": [
    "# Fitting the model\n",
    "rf_model = rf_model.fit(X_train_scaled, y_train)"
   ]
  },
  {
   "cell_type": "code",
   "execution_count": 189,
   "id": "81947ad4",
   "metadata": {},
   "outputs": [],
   "source": [
    "# Making predictions using the testing data.\n",
    "prediction = rf_model.predict(X_test_scaled)"
   ]
  },
  {
   "cell_type": "code",
   "execution_count": 190,
   "id": "274b5b22",
   "metadata": {},
   "outputs": [
    {
     "data": {
      "text/plain": [
       "array([1, 1, 1, 1, 1, 0, 1, 1, 1, 1, 1, 1, 0, 1, 1, 1, 1, 1, 1, 1, 0, 1,\n",
       "       0, 0, 0, 1, 0, 1, 0, 1, 1, 1, 0, 0, 1, 1, 1, 1, 1, 1, 1, 1, 0, 1,\n",
       "       1, 0, 1, 1, 1, 1, 0, 0, 1, 1, 0, 0, 0, 1, 1, 1, 1, 1, 1, 1, 0, 1,\n",
       "       1, 0, 1, 1, 1, 0, 1, 0, 1, 0, 1, 1, 0, 1, 0, 1, 1, 1, 1, 0, 1, 1,\n",
       "       0, 1, 1, 1, 1, 1, 1, 0, 0, 1, 0, 1, 0, 0, 0, 1, 1, 0, 0, 1, 0, 0,\n",
       "       1, 0, 1, 1, 0, 1, 1, 1, 1, 1, 1, 1, 1, 0, 0, 1, 1, 1, 0, 0, 1, 0,\n",
       "       1, 1, 1, 0, 1, 1, 0, 0, 0, 1, 1, 0, 1, 1, 1, 0, 0, 1, 1, 1, 1, 1,\n",
       "       1, 1, 0, 0, 1, 0, 1, 1, 0, 1, 0, 1, 0, 0, 0, 1, 0, 1, 0, 1, 0, 1,\n",
       "       1, 1, 0, 1, 1, 1, 0, 1, 1, 0, 1, 1, 0, 1, 1, 0, 1, 1, 0, 1, 1, 1,\n",
       "       1, 1, 0, 0, 1, 1, 0, 1, 1, 1, 0, 0, 1, 1, 1, 0, 0, 1, 1, 1, 0, 1,\n",
       "       1, 1, 1, 1, 1, 1, 1, 1, 1, 1, 0, 1, 1, 0, 1, 1, 0, 1, 0, 0, 1, 0,\n",
       "       1, 1, 1, 1, 1, 1, 1, 0, 0, 1, 0, 1, 1, 1, 0, 0, 0, 1, 1, 0, 0, 0,\n",
       "       1, 0, 0, 1, 0, 1, 0, 1, 1, 1, 1, 1, 0, 0, 0, 1, 0, 0, 0, 1, 1, 1,\n",
       "       1, 1, 1, 1, 1, 1, 0, 1, 1, 1, 0, 1, 0, 1, 1, 1, 1], dtype=int64)"
      ]
     },
     "execution_count": 190,
     "metadata": {},
     "output_type": "execute_result"
    }
   ],
   "source": [
    "prediction"
   ]
  },
  {
   "cell_type": "code",
   "execution_count": 202,
   "id": "423f0839",
   "metadata": {},
   "outputs": [
    {
     "data": {
      "image/png": "[encoded data removed]",
      "text/plain": [
       "<Figure size 432x288 with 2 Axes>"
      ]
     },
     "metadata": {
      "needs_background": "light"
     },
     "output_type": "display_data"
    },
    {
     "data": {
      "text/html": [
       "<div>\n",
       "<style scoped>\n",
       "    .dataframe tbody tr th:only-of-type {\n",
       "        vertical-align: middle;\n",
       "    }\n",
       "\n",
       "    .dataframe tbody tr th {\n",
       "        vertical-align: top;\n",
       "    }\n",
       "\n",
       "    .dataframe thead th {\n",
       "        text-align: right;\n",
       "    }\n",
       "</style>\n",
       "<table border=\"1\" class=\"dataframe\">\n",
       "  <thead>\n",
       "    <tr style=\"text-align: right;\">\n",
       "      <th></th>\n",
       "      <th>Predicted 1</th>\n",
       "      <th>Predicted 0</th>\n",
       "    </tr>\n",
       "  </thead>\n",
       "  <tbody>\n",
       "    <tr>\n",
       "      <th>Actual 1</th>\n",
       "      <td>67</td>\n",
       "      <td>65</td>\n",
       "    </tr>\n",
       "    <tr>\n",
       "      <th>Actual 0</th>\n",
       "      <td>36</td>\n",
       "      <td>135</td>\n",
       "    </tr>\n",
       "  </tbody>\n",
       "</table>\n",
       "</div>"
      ],
      "text/plain": [
       "          Predicted 1  Predicted 0\n",
       "Actual 1           67           65\n",
       "Actual 0           36          135"
      ]
     },
     "execution_count": 202,
     "metadata": {},
     "output_type": "execute_result"
    }
   ],
   "source": [
    "# Calculating the confusion matrix.\n",
    "cm2 = confusion_matrix(y_test, prediction)\n",
    "\n",
    "# Create a DataFrame from the confusion matrix.\n",
    "cm2_df = pd.DataFrame(\n",
    "    cm2, index=[\"Actual 1\", \"Actual 0\"], columns=[\"Predicted 1\", \"Predicted 0\"])\n",
    "sns.heatmap(cm2_df,cmap=\"Greens\", annot=True,fmt=\".0f\"\n",
    "           )\n",
    "#formatting the numbers in seaborn\n",
    "plt.show()\n",
    "\n",
    "cm2_df"
   ]
  },
  {
   "cell_type": "code",
   "execution_count": null,
   "id": "aa535b06",
   "metadata": {},
   "outputs": [],
   "source": [
    "# Out of the songs that are not in Top 20s, \n",
    "# 67 are predicted to be hits (True positive)\n",
    "# 65 are predicted to fall, although they meet the requirement (Fasle Negative)\n",
    "# 36 are predicted to be hits with out meeting the requirements (False Positive)\n",
    "# 135 are destined to be out of Top 20s (True Negative)\n",
    "\n",
    "#Acc score is at 66%"
   ]
  },
  {
   "cell_type": "code",
   "execution_count": 192,
   "id": "f5a88f22",
   "metadata": {},
   "outputs": [],
   "source": [
    "cm2_df.to_csv(\"Resources/RF_prediction.csv\")"
   ]
  },
  {
   "cell_type": "code",
   "execution_count": 193,
   "id": "ede3f447",
   "metadata": {},
   "outputs": [],
   "source": [
    "# Calculating the accuracy score.\n",
    "acc_score = accuracy_score(y_test, prediction) * 100"
   ]
  },
  {
   "cell_type": "code",
   "execution_count": 194,
   "id": "de56f5bb",
   "metadata": {},
   "outputs": [
    {
     "name": "stdout",
     "output_type": "stream",
     "text": [
      "RF_Confusion Matrix\n"
     ]
    },
    {
     "data": {
      "text/html": [
       "<div>\n",
       "<style scoped>\n",
       "    .dataframe tbody tr th:only-of-type {\n",
       "        vertical-align: middle;\n",
       "    }\n",
       "\n",
       "    .dataframe tbody tr th {\n",
       "        vertical-align: top;\n",
       "    }\n",
       "\n",
       "    .dataframe thead th {\n",
       "        text-align: right;\n",
       "    }\n",
       "</style>\n",
       "<table border=\"1\" class=\"dataframe\">\n",
       "  <thead>\n",
       "    <tr style=\"text-align: right;\">\n",
       "      <th></th>\n",
       "      <th>Predicted 1</th>\n",
       "      <th>Predicted 0</th>\n",
       "    </tr>\n",
       "  </thead>\n",
       "  <tbody>\n",
       "    <tr>\n",
       "      <th>Actual 1</th>\n",
       "      <td>67</td>\n",
       "      <td>65</td>\n",
       "    </tr>\n",
       "    <tr>\n",
       "      <th>Actual 0</th>\n",
       "      <td>36</td>\n",
       "      <td>135</td>\n",
       "    </tr>\n",
       "  </tbody>\n",
       "</table>\n",
       "</div>"
      ],
      "text/plain": [
       "          Predicted 1  Predicted 0\n",
       "Actual 1           67           65\n",
       "Actual 0           36          135"
      ]
     },
     "metadata": {},
     "output_type": "display_data"
    },
    {
     "name": "stdout",
     "output_type": "stream",
     "text": [
      "Accuracy Score : 66.66666666666666\n",
      "Classification Report\n",
      "              precision    recall  f1-score   support\n",
      "\n",
      "           0       0.65      0.51      0.57       132\n",
      "           1       0.68      0.79      0.73       171\n",
      "\n",
      "    accuracy                           0.67       303\n",
      "   macro avg       0.66      0.65      0.65       303\n",
      "weighted avg       0.66      0.67      0.66       303\n",
      "\n"
     ]
    }
   ],
   "source": [
    "# Displaying results\n",
    "print(\"RF_Confusion Matrix\")\n",
    "display(cm2_df)\n",
    "print(f\"Accuracy Score : {acc_score}\")\n",
    "print(\"Classification Report\")\n",
    "print(classification_report(y_test, prediction))"
   ]
  },
  {
   "cell_type": "markdown",
   "id": "98aa47e4",
   "metadata": {},
   "source": [
    "## BootStrapping"
   ]
  },
  {
   "cell_type": "code",
   "execution_count": 195,
   "id": "deca0022",
   "metadata": {},
   "outputs": [
    {
     "data": {
      "text/html": [
       "<div>\n",
       "<style scoped>\n",
       "    .dataframe tbody tr th:only-of-type {\n",
       "        vertical-align: middle;\n",
       "    }\n",
       "\n",
       "    .dataframe tbody tr th {\n",
       "        vertical-align: top;\n",
       "    }\n",
       "\n",
       "    .dataframe thead th {\n",
       "        text-align: right;\n",
       "    }\n",
       "</style>\n",
       "<table border=\"1\" class=\"dataframe\">\n",
       "  <thead>\n",
       "    <tr style=\"text-align: right;\">\n",
       "      <th></th>\n",
       "      <th>danceability</th>\n",
       "      <th>energy</th>\n",
       "      <th>key</th>\n",
       "      <th>loudness</th>\n",
       "      <th>rank</th>\n",
       "      <th>speechiness</th>\n",
       "      <th>acousticness</th>\n",
       "      <th>instrumentalness</th>\n",
       "      <th>liveness</th>\n",
       "      <th>valence</th>\n",
       "      <th>tempo</th>\n",
       "      <th>duration_ms</th>\n",
       "      <th>time_signature</th>\n",
       "    </tr>\n",
       "  </thead>\n",
       "  <tbody>\n",
       "    <tr>\n",
       "      <th>count</th>\n",
       "      <td>1212.000000</td>\n",
       "      <td>1212.000000</td>\n",
       "      <td>1212.000000</td>\n",
       "      <td>1212.000000</td>\n",
       "      <td>1212.000000</td>\n",
       "      <td>1212.000000</td>\n",
       "      <td>1212.000000</td>\n",
       "      <td>1212.000000</td>\n",
       "      <td>1212.000000</td>\n",
       "      <td>1212.000000</td>\n",
       "      <td>1212.000000</td>\n",
       "      <td>1212.000000</td>\n",
       "      <td>1212.000000</td>\n",
       "    </tr>\n",
       "    <tr>\n",
       "      <th>mean</th>\n",
       "      <td>0.696627</td>\n",
       "      <td>0.645409</td>\n",
       "      <td>5.383663</td>\n",
       "      <td>-6.114266</td>\n",
       "      <td>0.573432</td>\n",
       "      <td>0.123672</td>\n",
       "      <td>0.230912</td>\n",
       "      <td>0.006635</td>\n",
       "      <td>0.172708</td>\n",
       "      <td>0.511855</td>\n",
       "      <td>121.722182</td>\n",
       "      <td>203088.907591</td>\n",
       "      <td>3.975248</td>\n",
       "    </tr>\n",
       "    <tr>\n",
       "      <th>std</th>\n",
       "      <td>0.138945</td>\n",
       "      <td>0.153687</td>\n",
       "      <td>3.650797</td>\n",
       "      <td>2.291785</td>\n",
       "      <td>0.494782</td>\n",
       "      <td>0.110630</td>\n",
       "      <td>0.231870</td>\n",
       "      <td>0.046332</td>\n",
       "      <td>0.134128</td>\n",
       "      <td>0.222714</td>\n",
       "      <td>29.864847</td>\n",
       "      <td>46245.684556</td>\n",
       "      <td>0.252579</td>\n",
       "    </tr>\n",
       "    <tr>\n",
       "      <th>min</th>\n",
       "      <td>0.238000</td>\n",
       "      <td>0.111000</td>\n",
       "      <td>0.000000</td>\n",
       "      <td>-18.435000</td>\n",
       "      <td>0.000000</td>\n",
       "      <td>0.023200</td>\n",
       "      <td>0.000025</td>\n",
       "      <td>0.000000</td>\n",
       "      <td>0.021500</td>\n",
       "      <td>0.037000</td>\n",
       "      <td>62.948000</td>\n",
       "      <td>30583.000000</td>\n",
       "      <td>1.000000</td>\n",
       "    </tr>\n",
       "    <tr>\n",
       "      <th>25%</th>\n",
       "      <td>0.611000</td>\n",
       "      <td>0.541000</td>\n",
       "      <td>2.000000</td>\n",
       "      <td>-7.226250</td>\n",
       "      <td>0.000000</td>\n",
       "      <td>0.046575</td>\n",
       "      <td>0.047575</td>\n",
       "      <td>0.000000</td>\n",
       "      <td>0.093600</td>\n",
       "      <td>0.339000</td>\n",
       "      <td>96.470250</td>\n",
       "      <td>174396.250000</td>\n",
       "      <td>4.000000</td>\n",
       "    </tr>\n",
       "    <tr>\n",
       "      <th>50%</th>\n",
       "      <td>0.714000</td>\n",
       "      <td>0.664000</td>\n",
       "      <td>6.000000</td>\n",
       "      <td>-5.754500</td>\n",
       "      <td>1.000000</td>\n",
       "      <td>0.077000</td>\n",
       "      <td>0.152000</td>\n",
       "      <td>0.000000</td>\n",
       "      <td>0.119000</td>\n",
       "      <td>0.513500</td>\n",
       "      <td>119.942000</td>\n",
       "      <td>199604.000000</td>\n",
       "      <td>4.000000</td>\n",
       "    </tr>\n",
       "    <tr>\n",
       "      <th>75%</th>\n",
       "      <td>0.799250</td>\n",
       "      <td>0.762000</td>\n",
       "      <td>8.000000</td>\n",
       "      <td>-4.611250</td>\n",
       "      <td>1.000000</td>\n",
       "      <td>0.162500</td>\n",
       "      <td>0.336000</td>\n",
       "      <td>0.000026</td>\n",
       "      <td>0.195000</td>\n",
       "      <td>0.681250</td>\n",
       "      <td>141.228750</td>\n",
       "      <td>226119.250000</td>\n",
       "      <td>4.000000</td>\n",
       "    </tr>\n",
       "    <tr>\n",
       "      <th>max</th>\n",
       "      <td>0.970000</td>\n",
       "      <td>0.972000</td>\n",
       "      <td>11.000000</td>\n",
       "      <td>-0.515000</td>\n",
       "      <td>1.000000</td>\n",
       "      <td>0.856000</td>\n",
       "      <td>0.991000</td>\n",
       "      <td>0.657000</td>\n",
       "      <td>0.920000</td>\n",
       "      <td>0.972000</td>\n",
       "      <td>203.927000</td>\n",
       "      <td>588139.000000</td>\n",
       "      <td>5.000000</td>\n",
       "    </tr>\n",
       "  </tbody>\n",
       "</table>\n",
       "</div>"
      ],
      "text/plain": [
       "       danceability       energy          key     loudness         rank  \\\n",
       "count   1212.000000  1212.000000  1212.000000  1212.000000  1212.000000   \n",
       "mean       0.696627     0.645409     5.383663    -6.114266     0.573432   \n",
       "std        0.138945     0.153687     3.650797     2.291785     0.494782   \n",
       "min        0.238000     0.111000     0.000000   -18.435000     0.000000   \n",
       "25%        0.611000     0.541000     2.000000    -7.226250     0.000000   \n",
       "50%        0.714000     0.664000     6.000000    -5.754500     1.000000   \n",
       "75%        0.799250     0.762000     8.000000    -4.611250     1.000000   \n",
       "max        0.970000     0.972000    11.000000    -0.515000     1.000000   \n",
       "\n",
       "       speechiness  acousticness  instrumentalness     liveness      valence  \\\n",
       "count  1212.000000   1212.000000       1212.000000  1212.000000  1212.000000   \n",
       "mean      0.123672      0.230912          0.006635     0.172708     0.511855   \n",
       "std       0.110630      0.231870          0.046332     0.134128     0.222714   \n",
       "min       0.023200      0.000025          0.000000     0.021500     0.037000   \n",
       "25%       0.046575      0.047575          0.000000     0.093600     0.339000   \n",
       "50%       0.077000      0.152000          0.000000     0.119000     0.513500   \n",
       "75%       0.162500      0.336000          0.000026     0.195000     0.681250   \n",
       "max       0.856000      0.991000          0.657000     0.920000     0.972000   \n",
       "\n",
       "             tempo    duration_ms  time_signature  \n",
       "count  1212.000000    1212.000000     1212.000000  \n",
       "mean    121.722182  203088.907591        3.975248  \n",
       "std      29.864847   46245.684556        0.252579  \n",
       "min      62.948000   30583.000000        1.000000  \n",
       "25%      96.470250  174396.250000        4.000000  \n",
       "50%     119.942000  199604.000000        4.000000  \n",
       "75%     141.228750  226119.250000        4.000000  \n",
       "max     203.927000  588139.000000        5.000000  "
      ]
     },
     "execution_count": 195,
     "metadata": {},
     "output_type": "execute_result"
    }
   ],
   "source": [
    "# Loading data\n",
    "file_path = Path(\"Resources/track_analytics_full.csv\")\n",
    "df_track = pd.read_csv(file_path)\n",
    "df_track.describe()"
   ]
  },
  {
   "cell_type": "code",
   "execution_count": 206,
   "id": "e28529c7",
   "metadata": {},
   "outputs": [],
   "source": [
    "X = df_tracks.copy()\n",
    "X = X.drop(\"rank\", axis=1)\n",
    "y = df_track[\"rank\"].values"
   ]
  },
  {
   "cell_type": "code",
   "execution_count": 207,
   "id": "304d64ef",
   "metadata": {},
   "outputs": [],
   "source": [
    "X = X.drop(\"type\",axis=1)\n",
    "X = X.drop(\"uri\",axis=1)\n",
    "X = X.drop(\"id\",axis=1)\n",
    "X = X.drop(\"track_href\",axis=1)\n",
    "X= X.drop(\"analysis_url\", axis=1)"
   ]
  },
  {
   "cell_type": "code",
   "execution_count": 223,
   "id": "21861a3f",
   "metadata": {},
   "outputs": [],
   "source": [
    "from sklearn.model_selection import train_test_split\n",
    "from sklearn.preprocessing import StandardScaler\n",
    "X_train, X_test, y_train, y_test = train_test_split(X,\n",
    "   y, random_state=1)"
   ]
  },
  {
   "cell_type": "code",
   "execution_count": 224,
   "id": "8ca216dc",
   "metadata": {},
   "outputs": [],
   "source": [
    "scaler = StandardScaler()\n",
    "X_scaler = scaler.fit(X_train)\n",
    "X_train_scaled = X_scaler.transform(X_train)\n",
    "X_test_scaled = X_scaler.transform(X_test)"
   ]
  },
  {
   "cell_type": "code",
   "execution_count": 242,
   "id": "4f1e4f8f",
   "metadata": {},
   "outputs": [],
   "source": [
    "#a for loop is used to identify the learning rate that yields the best performance.\n",
    "\n",
    "from sklearn.ensemble import GradientBoostingClassifier\n",
    "learning_rates = [0.01, 0.05, 0.1, 0.5, 1]\n",
    "for learning_rate in learning_rates:\n",
    "   classifier = GradientBoostingClassifier(n_estimators=78,\n",
    "   learning_rate=learning_rate,\n",
    "   max_features=5,\n",
    "   max_depth=3,\n",
    "   random_state=0)\n",
    "   classifier.fit(X_train_scaled, np.ravel(y_train,order='C'))"
   ]
  },
  {
   "cell_type": "code",
   "execution_count": 243,
   "id": "1cf5f4f9",
   "metadata": {},
   "outputs": [
    {
     "name": "stdout",
     "output_type": "stream",
     "text": [
      "Learning rate: 1\n",
      "Accuracy score (training): 1.000\n",
      "Accuracy score (validation): 0.627\n"
     ]
    }
   ],
   "source": [
    "print(\"Learning rate:\", learning_rate)\n",
    "print(\"Accuracy score (training): {0:.3f}\".format(\n",
    "       classifier.score(\n",
    "           X_train_scaled,\n",
    "           y_train)))\n",
    "print(\"Accuracy score (validation): {0:.3f}\".format(\n",
    "       classifier.score(\n",
    "           X_test_scaled,\n",
    "           y_test)))"
   ]
  },
  {
   "cell_type": "code",
   "execution_count": 256,
   "id": "1fa4aa4d",
   "metadata": {},
   "outputs": [],
   "source": [
    "classifier = GradientBoostingClassifier(n_estimators=20,\n",
    "   learning_rate=1, max_features=5, max_depth=3, random_state=0)\n",
    "\n",
    "classifier.fit(X_train_scaled, y_train)\n",
    "prediction2 = classifier.predict(X_test_scaled)"
   ]
  },
  {
   "cell_type": "code",
   "execution_count": 257,
   "id": "b9e53fa4",
   "metadata": {},
   "outputs": [
    {
     "name": "stdout",
     "output_type": "stream",
     "text": [
      "Accuracy Score : 0.6105610561056105\n"
     ]
    }
   ],
   "source": [
    "from sklearn.metrics import confusion_matrix\n",
    "from sklearn.metrics import accuracy_score\n",
    "from sklearn.metrics import classification_report\n",
    "acc_score2 = accuracy_score(y_test, prediction2)\n",
    "print(f\"Accuracy Score : {acc_score2}\")"
   ]
  },
  {
   "cell_type": "code",
   "execution_count": 258,
   "id": "9dc34880",
   "metadata": {},
   "outputs": [
    {
     "data": {
      "image/png": "[encoded data removed]",
      "text/plain": [
       "<Figure size 432x288 with 2 Axes>"
      ]
     },
     "metadata": {
      "needs_background": "light"
     },
     "output_type": "display_data"
    },
    {
     "data": {
      "text/html": [
       "<div>\n",
       "<style scoped>\n",
       "    .dataframe tbody tr th:only-of-type {\n",
       "        vertical-align: middle;\n",
       "    }\n",
       "\n",
       "    .dataframe tbody tr th {\n",
       "        vertical-align: top;\n",
       "    }\n",
       "\n",
       "    .dataframe thead th {\n",
       "        text-align: right;\n",
       "    }\n",
       "</style>\n",
       "<table border=\"1\" class=\"dataframe\">\n",
       "  <thead>\n",
       "    <tr style=\"text-align: right;\">\n",
       "      <th></th>\n",
       "      <th>Predicted 1</th>\n",
       "      <th>Predicted 0</th>\n",
       "    </tr>\n",
       "  </thead>\n",
       "  <tbody>\n",
       "    <tr>\n",
       "      <th>Actual 1</th>\n",
       "      <td>69</td>\n",
       "      <td>71</td>\n",
       "    </tr>\n",
       "    <tr>\n",
       "      <th>Actual 0</th>\n",
       "      <td>32</td>\n",
       "      <td>131</td>\n",
       "    </tr>\n",
       "  </tbody>\n",
       "</table>\n",
       "</div>"
      ],
      "text/plain": [
       "          Predicted 1  Predicted 0\n",
       "Actual 1           69           71\n",
       "Actual 0           32          131"
      ]
     },
     "execution_count": 258,
     "metadata": {},
     "output_type": "execute_result"
    }
   ],
   "source": [
    "cm3 = confusion_matrix(y_test, predictions)\n",
    "cm3_df = pd.DataFrame(\n",
    "   cm3, index=[\"Actual 1\", \"Actual 0\"],\n",
    "   columns=[\"Predicted 1\", \"Predicted 0\"]\n",
    ")\n",
    "sns.heatmap(cm3_df,cmap=\"rainbow_r\", annot=True,fmt=\".0f\"\n",
    "           )\n",
    "#formatting the numbers in seaborn\n",
    "plt.show()\n",
    "\n",
    "cm3_df"
   ]
  },
  {
   "cell_type": "code",
   "execution_count": 259,
   "id": "02e44f54",
   "metadata": {},
   "outputs": [],
   "source": [
    "# Out of the songs that are not in Top 20s, \n",
    "# 69 are predicted to be hits (True positive)\n",
    "# 71 are predicted to fall, although they meet the requirement (Fasle Negative)\n",
    "# 32 are predicted to be hits with out meeting the requirements (False Positive)\n",
    "# 131 are destined to be out of Top 20s (True Negative)\n",
    "\n",
    "#Acc score is at 61%"
   ]
  },
  {
   "cell_type": "code",
   "execution_count": 264,
   "id": "c7c22887",
   "metadata": {},
   "outputs": [
    {
     "name": "stdout",
     "output_type": "stream",
     "text": [
      "Classification Report\n",
      "              precision    recall  f1-score   support\n",
      "\n",
      "           0       0.60      0.47      0.53       140\n",
      "           1       0.62      0.73      0.67       163\n",
      "\n",
      "    accuracy                           0.61       303\n",
      "   macro avg       0.61      0.60      0.60       303\n",
      "weighted avg       0.61      0.61      0.60       303\n",
      "\n"
     ]
    }
   ],
   "source": [
    "print(\"Classification Report\")\n",
    "print(classification_report(y_test, prediction2))"
   ]
  },
  {
   "cell_type": "code",
   "execution_count": 261,
   "id": "b0ec2fa4",
   "metadata": {},
   "outputs": [],
   "source": [
    "cm3_df.to_csv(\"Resources/BS_prediction.csv\")"
   ]
  },
  {
   "cell_type": "code",
   "execution_count": null,
   "id": "d24cd7c8",
   "metadata": {},
   "outputs": [],
   "source": []
  }
 ],
 "metadata": {
  "kernelspec": {
   "display_name": "mlenv",
   "language": "python",
   "name": "mlenv"
  },
  "language_info": {
   "codemirror_mode": {
    "name": "ipython",
    "version": 3
   },
   "file_extension": ".py",
   "mimetype": "text/x-python",
   "name": "python",
   "nbconvert_exporter": "python",
   "pygments_lexer": "ipython3",
   "version": "3.7.13"
  }
 },
 "nbformat": 4,
 "nbformat_minor": 5
}
