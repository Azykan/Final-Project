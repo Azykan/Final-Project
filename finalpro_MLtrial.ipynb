{
 "cells": [
  {
   "cell_type": "code",
   "execution_count": 1,
   "id": "406c7d7f",
   "metadata": {},
   "outputs": [
    {
     "name": "stdout",
     "output_type": "stream",
     "text": [
      "   rank                     Artists  \\\n",
      "0     1                   Kate Bush   \n",
      "1     2                Harry Styles   \n",
      "2     3            Bizarrap Quevedo   \n",
      "3     4  Bad Bunny Chencho Corleone   \n",
      "4     5                        Joji   \n",
      "\n",
      "                                          track_name  \\\n",
      "0  Running Up That Hill A Deal With God 2018 Rema...   \n",
      "1                                          As It Was   \n",
      "2                 Quevedo Bzrp Music Sessions Vol 52   \n",
      "3                                    Me Porto Bonito   \n",
      "4                                      Glimpse of Us   \n",
      "\n",
      "                          source  peak_rank  previous_rank  weeks_on_chart  \\\n",
      "0                          Rhino          1              1               7   \n",
      "1                       Columbia          1              2              15   \n",
      "2              DALE PLAY Records          3             -1               1   \n",
      "3        Rimas Entertainment LLC          2              4              10   \n",
      "4  88rising Music Warner Records          1              3               5   \n",
      "\n",
      "    streams  \n",
      "0  46609146  \n",
      "1  44759969  \n",
      "2  38443942  \n",
      "3  38042392  \n",
      "4  34930156  \n"
     ]
    }
   ],
   "source": [
    "import pandas as pd\n",
    "regional_df=pd.read_csv(\"Resources/regional_data.csv\",encoding='unicode_escape')\n",
    "print(regional_df.head())"
   ]
  },
  {
   "cell_type": "code",
   "execution_count": 12,
   "id": "12a4ae71",
   "metadata": {},
   "outputs": [
    {
     "data": {
      "text/html": [
       "<div>\n",
       "<style scoped>\n",
       "    .dataframe tbody tr th:only-of-type {\n",
       "        vertical-align: middle;\n",
       "    }\n",
       "\n",
       "    .dataframe tbody tr th {\n",
       "        vertical-align: top;\n",
       "    }\n",
       "\n",
       "    .dataframe thead th {\n",
       "        text-align: right;\n",
       "    }\n",
       "</style>\n",
       "<table border=\"1\" class=\"dataframe\">\n",
       "  <thead>\n",
       "    <tr style=\"text-align: right;\">\n",
       "      <th></th>\n",
       "      <th>Artists</th>\n",
       "      <th>weeks_on_chart</th>\n",
       "      <th>streams</th>\n",
       "    </tr>\n",
       "  </thead>\n",
       "  <tbody>\n",
       "    <tr>\n",
       "      <th>0</th>\n",
       "      <td>Kate Bush</td>\n",
       "      <td>7</td>\n",
       "      <td>46609146</td>\n",
       "    </tr>\n",
       "    <tr>\n",
       "      <th>1</th>\n",
       "      <td>Harry Styles</td>\n",
       "      <td>15</td>\n",
       "      <td>44759969</td>\n",
       "    </tr>\n",
       "    <tr>\n",
       "      <th>2</th>\n",
       "      <td>Bizarrap Quevedo</td>\n",
       "      <td>1</td>\n",
       "      <td>38443942</td>\n",
       "    </tr>\n",
       "    <tr>\n",
       "      <th>3</th>\n",
       "      <td>Bad Bunny Chencho Corleone</td>\n",
       "      <td>10</td>\n",
       "      <td>38042392</td>\n",
       "    </tr>\n",
       "    <tr>\n",
       "      <th>4</th>\n",
       "      <td>Joji</td>\n",
       "      <td>5</td>\n",
       "      <td>34930156</td>\n",
       "    </tr>\n",
       "    <tr>\n",
       "      <th>5</th>\n",
       "      <td>Bad Bunny</td>\n",
       "      <td>10</td>\n",
       "      <td>32423071</td>\n",
       "    </tr>\n",
       "    <tr>\n",
       "      <th>6</th>\n",
       "      <td>Bad Bunny Bomba Estereo</td>\n",
       "      <td>10</td>\n",
       "      <td>28065267</td>\n",
       "    </tr>\n",
       "    <tr>\n",
       "      <th>7</th>\n",
       "      <td>Bad Bunny</td>\n",
       "      <td>10</td>\n",
       "      <td>26558071</td>\n",
       "    </tr>\n",
       "    <tr>\n",
       "      <th>8</th>\n",
       "      <td>Bad Bunny</td>\n",
       "      <td>10</td>\n",
       "      <td>23671403</td>\n",
       "    </tr>\n",
       "    <tr>\n",
       "      <th>9</th>\n",
       "      <td>Charlie Puth BTS Jung Kook</td>\n",
       "      <td>3</td>\n",
       "      <td>22173100</td>\n",
       "    </tr>\n",
       "  </tbody>\n",
       "</table>\n",
       "</div>"
      ],
      "text/plain": [
       "                      Artists  weeks_on_chart   streams\n",
       "0                   Kate Bush               7  46609146\n",
       "1                Harry Styles              15  44759969\n",
       "2            Bizarrap Quevedo               1  38443942\n",
       "3  Bad Bunny Chencho Corleone              10  38042392\n",
       "4                        Joji               5  34930156\n",
       "5                   Bad Bunny              10  32423071\n",
       "6     Bad Bunny Bomba Estereo              10  28065267\n",
       "7                   Bad Bunny              10  26558071\n",
       "8                   Bad Bunny              10  23671403\n",
       "9  Charlie Puth BTS Jung Kook               3  22173100"
      ]
     },
     "execution_count": 12,
     "metadata": {},
     "output_type": "execute_result"
    }
   ],
   "source": [
    "#drop rank, uri, track_name, source,peak_rank, previous_rank, & weeks on chart\n",
    "new_regional_df = regional_df.drop(['rank','track_name','source','peak_rank','previous_rank'], axis=1)\n",
    "new_regional_df.head(10)"
   ]
  },
  {
   "cell_type": "code",
   "execution_count": 13,
   "id": "efc66924",
   "metadata": {},
   "outputs": [
    {
     "name": "stdout",
     "output_type": "stream",
     "text": [
      "                      Artists  \\\n",
      "0                   Kate Bush   \n",
      "1                Harry Styles   \n",
      "2            Bizarrap Quevedo   \n",
      "3  Bad Bunny Chencho Corleone   \n",
      "4                        Joji   \n",
      "\n",
      "                                       artist_genres  \n",
      "0  ['art pop', 'art rock', 'baroque pop', 'new wa...  \n",
      "1                                            ['pop']  \n",
      "2  ['argentine hip hop', 'pop venezolano', 'trap ...  \n",
      "3              ['latin', 'reggaeton', 'trap latino']  \n",
      "4                                      ['viral pop']  \n"
     ]
    }
   ],
   "source": [
    "genre_df=pd.read_csv(\"Resources/genre.csv\",encoding='unicode_escape')\n",
    "print(genre_df.head())"
   ]
  },
  {
   "cell_type": "code",
   "execution_count": 14,
   "id": "bf5b5cd6",
   "metadata": {},
   "outputs": [],
   "source": [
    "#merge 2 dfs by artists names\n",
    "combo_list = pd.merge(new_regional_df,genre_df, left_on='Artists',right_on='Artists',how='left')"
   ]
  },
  {
   "cell_type": "code",
   "execution_count": 15,
   "id": "4fe25e5b",
   "metadata": {},
   "outputs": [],
   "source": [
    "#creating a new csv\n",
    "combo_list.to_csv('Resources/combo_list.csv',index=False)"
   ]
  },
  {
   "cell_type": "code",
   "execution_count": 16,
   "id": "d2582a74",
   "metadata": {},
   "outputs": [],
   "source": [
    "#merging duplicates & creating csv\n",
    "new_combo_list = pd.read_csv('Resources/combo_list.csv')\n",
    "new_combo_list = combo_list.drop_duplicates(subset='Artists')\n",
    "new_combo_list.to_csv('Resources/new_combo_list.csv')"
   ]
  },
  {
   "cell_type": "code",
   "execution_count": 17,
   "id": "0489f77c",
   "metadata": {},
   "outputs": [],
   "source": [
    "#clustering data\n",
    "import plotly.express as px\n",
    "import hvplot.pandas\n",
    "from sklearn.cluster import KMeans"
   ]
  },
  {
   "cell_type": "code",
   "execution_count": 18,
   "id": "72570d79",
   "metadata": {},
   "outputs": [],
   "source": [
    "#elbow curve"
   ]
  },
  {
   "cell_type": "code",
   "execution_count": null,
   "id": "56b93cab",
   "metadata": {},
   "outputs": [],
   "source": []
  }
 ],
 "metadata": {
  "kernelspec": {
   "display_name": "mlenv",
   "language": "python",
   "name": "mlenv"
  },
  "language_info": {
   "codemirror_mode": {
    "name": "ipython",
    "version": 3
   },
   "file_extension": ".py",
   "mimetype": "text/x-python",
   "name": "python",
   "nbconvert_exporter": "python",
   "pygments_lexer": "ipython3",
   "version": "3.7.13"
  }
 },
 "nbformat": 4,
 "nbformat_minor": 5
}
